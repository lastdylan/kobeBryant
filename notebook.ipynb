{
 "cells": [
  {
   "cell_type": "code",
   "execution_count": 1,
   "metadata": {
    "collapsed": true
   },
   "outputs": [],
   "source": [
    "import numpy as np"
   ]
  },
  {
   "cell_type": "code",
   "execution_count": 2,
   "metadata": {
    "collapsed": true
   },
   "outputs": [],
   "source": [
    "import pandas as pd\n",
    "df = pd.read_csv(\"samples/data.csv\", header=0)"
   ]
  },
  {
   "cell_type": "markdown",
   "metadata": {},
   "source": [
    "Take a peak at the data using the head() function:"
   ]
  },
  {
   "cell_type": "code",
   "execution_count": 3,
   "metadata": {
    "collapsed": false
   },
   "outputs": [
    {
     "data": {
      "text/html": [
       "<div>\n",
       "<table border=\"1\" class=\"dataframe\">\n",
       "  <thead>\n",
       "    <tr style=\"text-align: right;\">\n",
       "      <th></th>\n",
       "      <th>action_type</th>\n",
       "      <th>combined_shot_type</th>\n",
       "      <th>game_event_id</th>\n",
       "      <th>game_id</th>\n",
       "      <th>lat</th>\n",
       "      <th>loc_x</th>\n",
       "      <th>loc_y</th>\n",
       "      <th>lon</th>\n",
       "      <th>minutes_remaining</th>\n",
       "      <th>period</th>\n",
       "      <th>...</th>\n",
       "      <th>shot_type</th>\n",
       "      <th>shot_zone_area</th>\n",
       "      <th>shot_zone_basic</th>\n",
       "      <th>shot_zone_range</th>\n",
       "      <th>team_id</th>\n",
       "      <th>team_name</th>\n",
       "      <th>game_date</th>\n",
       "      <th>matchup</th>\n",
       "      <th>opponent</th>\n",
       "      <th>shot_id</th>\n",
       "    </tr>\n",
       "  </thead>\n",
       "  <tbody>\n",
       "    <tr>\n",
       "      <th>0</th>\n",
       "      <td>Jump Shot</td>\n",
       "      <td>Jump Shot</td>\n",
       "      <td>10</td>\n",
       "      <td>20000012</td>\n",
       "      <td>33.9723</td>\n",
       "      <td>167</td>\n",
       "      <td>72</td>\n",
       "      <td>-118.1028</td>\n",
       "      <td>10</td>\n",
       "      <td>1</td>\n",
       "      <td>...</td>\n",
       "      <td>2PT Field Goal</td>\n",
       "      <td>Right Side(R)</td>\n",
       "      <td>Mid-Range</td>\n",
       "      <td>16-24 ft.</td>\n",
       "      <td>1610612747</td>\n",
       "      <td>Los Angeles Lakers</td>\n",
       "      <td>2000-10-31</td>\n",
       "      <td>LAL @ POR</td>\n",
       "      <td>POR</td>\n",
       "      <td>1</td>\n",
       "    </tr>\n",
       "    <tr>\n",
       "      <th>1</th>\n",
       "      <td>Jump Shot</td>\n",
       "      <td>Jump Shot</td>\n",
       "      <td>12</td>\n",
       "      <td>20000012</td>\n",
       "      <td>34.0443</td>\n",
       "      <td>-157</td>\n",
       "      <td>0</td>\n",
       "      <td>-118.4268</td>\n",
       "      <td>10</td>\n",
       "      <td>1</td>\n",
       "      <td>...</td>\n",
       "      <td>2PT Field Goal</td>\n",
       "      <td>Left Side(L)</td>\n",
       "      <td>Mid-Range</td>\n",
       "      <td>8-16 ft.</td>\n",
       "      <td>1610612747</td>\n",
       "      <td>Los Angeles Lakers</td>\n",
       "      <td>2000-10-31</td>\n",
       "      <td>LAL @ POR</td>\n",
       "      <td>POR</td>\n",
       "      <td>2</td>\n",
       "    </tr>\n",
       "    <tr>\n",
       "      <th>2</th>\n",
       "      <td>Jump Shot</td>\n",
       "      <td>Jump Shot</td>\n",
       "      <td>35</td>\n",
       "      <td>20000012</td>\n",
       "      <td>33.9093</td>\n",
       "      <td>-101</td>\n",
       "      <td>135</td>\n",
       "      <td>-118.3708</td>\n",
       "      <td>7</td>\n",
       "      <td>1</td>\n",
       "      <td>...</td>\n",
       "      <td>2PT Field Goal</td>\n",
       "      <td>Left Side Center(LC)</td>\n",
       "      <td>Mid-Range</td>\n",
       "      <td>16-24 ft.</td>\n",
       "      <td>1610612747</td>\n",
       "      <td>Los Angeles Lakers</td>\n",
       "      <td>2000-10-31</td>\n",
       "      <td>LAL @ POR</td>\n",
       "      <td>POR</td>\n",
       "      <td>3</td>\n",
       "    </tr>\n",
       "    <tr>\n",
       "      <th>3</th>\n",
       "      <td>Jump Shot</td>\n",
       "      <td>Jump Shot</td>\n",
       "      <td>43</td>\n",
       "      <td>20000012</td>\n",
       "      <td>33.8693</td>\n",
       "      <td>138</td>\n",
       "      <td>175</td>\n",
       "      <td>-118.1318</td>\n",
       "      <td>6</td>\n",
       "      <td>1</td>\n",
       "      <td>...</td>\n",
       "      <td>2PT Field Goal</td>\n",
       "      <td>Right Side Center(RC)</td>\n",
       "      <td>Mid-Range</td>\n",
       "      <td>16-24 ft.</td>\n",
       "      <td>1610612747</td>\n",
       "      <td>Los Angeles Lakers</td>\n",
       "      <td>2000-10-31</td>\n",
       "      <td>LAL @ POR</td>\n",
       "      <td>POR</td>\n",
       "      <td>4</td>\n",
       "    </tr>\n",
       "    <tr>\n",
       "      <th>4</th>\n",
       "      <td>Driving Dunk Shot</td>\n",
       "      <td>Dunk</td>\n",
       "      <td>155</td>\n",
       "      <td>20000012</td>\n",
       "      <td>34.0443</td>\n",
       "      <td>0</td>\n",
       "      <td>0</td>\n",
       "      <td>-118.2698</td>\n",
       "      <td>6</td>\n",
       "      <td>2</td>\n",
       "      <td>...</td>\n",
       "      <td>2PT Field Goal</td>\n",
       "      <td>Center(C)</td>\n",
       "      <td>Restricted Area</td>\n",
       "      <td>Less Than 8 ft.</td>\n",
       "      <td>1610612747</td>\n",
       "      <td>Los Angeles Lakers</td>\n",
       "      <td>2000-10-31</td>\n",
       "      <td>LAL @ POR</td>\n",
       "      <td>POR</td>\n",
       "      <td>5</td>\n",
       "    </tr>\n",
       "  </tbody>\n",
       "</table>\n",
       "<p>5 rows × 25 columns</p>\n",
       "</div>"
      ],
      "text/plain": [
       "         action_type combined_shot_type  game_event_id   game_id      lat  \\\n",
       "0          Jump Shot          Jump Shot             10  20000012  33.9723   \n",
       "1          Jump Shot          Jump Shot             12  20000012  34.0443   \n",
       "2          Jump Shot          Jump Shot             35  20000012  33.9093   \n",
       "3          Jump Shot          Jump Shot             43  20000012  33.8693   \n",
       "4  Driving Dunk Shot               Dunk            155  20000012  34.0443   \n",
       "\n",
       "   loc_x  loc_y       lon  minutes_remaining  period   ...          shot_type  \\\n",
       "0    167     72 -118.1028                 10       1   ...     2PT Field Goal   \n",
       "1   -157      0 -118.4268                 10       1   ...     2PT Field Goal   \n",
       "2   -101    135 -118.3708                  7       1   ...     2PT Field Goal   \n",
       "3    138    175 -118.1318                  6       1   ...     2PT Field Goal   \n",
       "4      0      0 -118.2698                  6       2   ...     2PT Field Goal   \n",
       "\n",
       "          shot_zone_area  shot_zone_basic  shot_zone_range     team_id  \\\n",
       "0          Right Side(R)        Mid-Range        16-24 ft.  1610612747   \n",
       "1           Left Side(L)        Mid-Range         8-16 ft.  1610612747   \n",
       "2   Left Side Center(LC)        Mid-Range        16-24 ft.  1610612747   \n",
       "3  Right Side Center(RC)        Mid-Range        16-24 ft.  1610612747   \n",
       "4              Center(C)  Restricted Area  Less Than 8 ft.  1610612747   \n",
       "\n",
       "            team_name   game_date    matchup opponent  shot_id  \n",
       "0  Los Angeles Lakers  2000-10-31  LAL @ POR      POR        1  \n",
       "1  Los Angeles Lakers  2000-10-31  LAL @ POR      POR        2  \n",
       "2  Los Angeles Lakers  2000-10-31  LAL @ POR      POR        3  \n",
       "3  Los Angeles Lakers  2000-10-31  LAL @ POR      POR        4  \n",
       "4  Los Angeles Lakers  2000-10-31  LAL @ POR      POR        5  \n",
       "\n",
       "[5 rows x 25 columns]"
      ]
     },
     "execution_count": 3,
     "metadata": {},
     "output_type": "execute_result"
    }
   ],
   "source": [
    "df.head()"
   ]
  },
  {
   "cell_type": "markdown",
   "metadata": {},
   "source": [
    "info() is not as powerful as R's summary(), but it provides a good description of columns and data types. I like to convert 'objects' to categories because most scikit-learn algorithms only handle numerical values."
   ]
  },
  {
   "cell_type": "code",
   "execution_count": 5,
   "metadata": {
    "collapsed": false,
    "scrolled": true
   },
   "outputs": [
    {
     "name": "stdout",
     "output_type": "stream",
     "text": [
      "<class 'pandas.core.frame.DataFrame'>\n",
      "RangeIndex: 30697 entries, 0 to 30696\n",
      "Data columns (total 25 columns):\n",
      "action_type           30697 non-null object\n",
      "combined_shot_type    30697 non-null object\n",
      "game_event_id         30697 non-null int64\n",
      "game_id               30697 non-null int64\n",
      "lat                   30697 non-null float64\n",
      "loc_x                 30697 non-null int64\n",
      "loc_y                 30697 non-null int64\n",
      "lon                   30697 non-null float64\n",
      "minutes_remaining     30697 non-null int64\n",
      "period                30697 non-null int64\n",
      "playoffs              30697 non-null int64\n",
      "season                30697 non-null object\n",
      "seconds_remaining     30697 non-null int64\n",
      "shot_distance         30697 non-null int64\n",
      "shot_made_flag        25697 non-null float64\n",
      "shot_type             30697 non-null object\n",
      "shot_zone_area        30697 non-null object\n",
      "shot_zone_basic       30697 non-null object\n",
      "shot_zone_range       30697 non-null object\n",
      "team_id               30697 non-null int64\n",
      "team_name             30697 non-null object\n",
      "game_date             30697 non-null object\n",
      "matchup               30697 non-null object\n",
      "opponent              30697 non-null object\n",
      "shot_id               30697 non-null int64\n",
      "dtypes: float64(3), int64(11), object(11)\n",
      "memory usage: 5.9+ MB\n"
     ]
    }
   ],
   "source": [
    "df.info(verbose=True)"
   ]
  },
  {
   "cell_type": "code",
   "execution_count": 29,
   "metadata": {
    "collapsed": false
   },
   "outputs": [
    {
     "data": {
      "text/html": [
       "<div>\n",
       "<table border=\"1\" class=\"dataframe\">\n",
       "  <thead>\n",
       "    <tr style=\"text-align: right;\">\n",
       "      <th></th>\n",
       "      <th>action_type</th>\n",
       "      <th>combined_shot_type</th>\n",
       "      <th>game_event_id</th>\n",
       "      <th>game_id</th>\n",
       "      <th>lat</th>\n",
       "      <th>loc_x</th>\n",
       "      <th>loc_y</th>\n",
       "      <th>lon</th>\n",
       "      <th>minutes_remaining</th>\n",
       "      <th>period</th>\n",
       "      <th>...</th>\n",
       "      <th>shot_type</th>\n",
       "      <th>shot_zone_area</th>\n",
       "      <th>shot_zone_basic</th>\n",
       "      <th>shot_zone_range</th>\n",
       "      <th>team_id</th>\n",
       "      <th>team_name</th>\n",
       "      <th>game_date</th>\n",
       "      <th>matchup</th>\n",
       "      <th>opponent</th>\n",
       "      <th>shot_id</th>\n",
       "    </tr>\n",
       "  </thead>\n",
       "  <tbody>\n",
       "    <tr>\n",
       "      <th>1</th>\n",
       "      <td>26</td>\n",
       "      <td>3</td>\n",
       "      <td>12</td>\n",
       "      <td>20000012</td>\n",
       "      <td>34.0443</td>\n",
       "      <td>-157</td>\n",
       "      <td>0</td>\n",
       "      <td>-118.4268</td>\n",
       "      <td>10</td>\n",
       "      <td>1</td>\n",
       "      <td>...</td>\n",
       "      <td>0</td>\n",
       "      <td>3</td>\n",
       "      <td>4</td>\n",
       "      <td>2</td>\n",
       "      <td>1610612747</td>\n",
       "      <td>0</td>\n",
       "      <td>310</td>\n",
       "      <td>28</td>\n",
       "      <td>25</td>\n",
       "      <td>2</td>\n",
       "    </tr>\n",
       "    <tr>\n",
       "      <th>2</th>\n",
       "      <td>26</td>\n",
       "      <td>3</td>\n",
       "      <td>35</td>\n",
       "      <td>20000012</td>\n",
       "      <td>33.9093</td>\n",
       "      <td>-101</td>\n",
       "      <td>135</td>\n",
       "      <td>-118.3708</td>\n",
       "      <td>7</td>\n",
       "      <td>1</td>\n",
       "      <td>...</td>\n",
       "      <td>0</td>\n",
       "      <td>2</td>\n",
       "      <td>4</td>\n",
       "      <td>0</td>\n",
       "      <td>1610612747</td>\n",
       "      <td>0</td>\n",
       "      <td>310</td>\n",
       "      <td>28</td>\n",
       "      <td>25</td>\n",
       "      <td>3</td>\n",
       "    </tr>\n",
       "    <tr>\n",
       "      <th>3</th>\n",
       "      <td>26</td>\n",
       "      <td>3</td>\n",
       "      <td>43</td>\n",
       "      <td>20000012</td>\n",
       "      <td>33.8693</td>\n",
       "      <td>138</td>\n",
       "      <td>175</td>\n",
       "      <td>-118.1318</td>\n",
       "      <td>6</td>\n",
       "      <td>1</td>\n",
       "      <td>...</td>\n",
       "      <td>0</td>\n",
       "      <td>4</td>\n",
       "      <td>4</td>\n",
       "      <td>0</td>\n",
       "      <td>1610612747</td>\n",
       "      <td>0</td>\n",
       "      <td>310</td>\n",
       "      <td>28</td>\n",
       "      <td>25</td>\n",
       "      <td>4</td>\n",
       "    </tr>\n",
       "    <tr>\n",
       "      <th>4</th>\n",
       "      <td>5</td>\n",
       "      <td>1</td>\n",
       "      <td>155</td>\n",
       "      <td>20000012</td>\n",
       "      <td>34.0443</td>\n",
       "      <td>0</td>\n",
       "      <td>0</td>\n",
       "      <td>-118.2698</td>\n",
       "      <td>6</td>\n",
       "      <td>2</td>\n",
       "      <td>...</td>\n",
       "      <td>0</td>\n",
       "      <td>1</td>\n",
       "      <td>5</td>\n",
       "      <td>4</td>\n",
       "      <td>1610612747</td>\n",
       "      <td>0</td>\n",
       "      <td>310</td>\n",
       "      <td>28</td>\n",
       "      <td>25</td>\n",
       "      <td>5</td>\n",
       "    </tr>\n",
       "    <tr>\n",
       "      <th>5</th>\n",
       "      <td>26</td>\n",
       "      <td>3</td>\n",
       "      <td>244</td>\n",
       "      <td>20000012</td>\n",
       "      <td>34.0553</td>\n",
       "      <td>-145</td>\n",
       "      <td>-11</td>\n",
       "      <td>-118.4148</td>\n",
       "      <td>9</td>\n",
       "      <td>3</td>\n",
       "      <td>...</td>\n",
       "      <td>0</td>\n",
       "      <td>3</td>\n",
       "      <td>4</td>\n",
       "      <td>2</td>\n",
       "      <td>1610612747</td>\n",
       "      <td>0</td>\n",
       "      <td>310</td>\n",
       "      <td>28</td>\n",
       "      <td>25</td>\n",
       "      <td>6</td>\n",
       "    </tr>\n",
       "  </tbody>\n",
       "</table>\n",
       "<p>5 rows × 25 columns</p>\n",
       "</div>"
      ],
      "text/plain": [
       "   action_type  combined_shot_type  game_event_id   game_id      lat  loc_x  \\\n",
       "1           26                   3             12  20000012  34.0443   -157   \n",
       "2           26                   3             35  20000012  33.9093   -101   \n",
       "3           26                   3             43  20000012  33.8693    138   \n",
       "4            5                   1            155  20000012  34.0443      0   \n",
       "5           26                   3            244  20000012  34.0553   -145   \n",
       "\n",
       "   loc_y       lon  minutes_remaining  period   ...     shot_type  \\\n",
       "1      0 -118.4268                 10       1   ...             0   \n",
       "2    135 -118.3708                  7       1   ...             0   \n",
       "3    175 -118.1318                  6       1   ...             0   \n",
       "4      0 -118.2698                  6       2   ...             0   \n",
       "5    -11 -118.4148                  9       3   ...             0   \n",
       "\n",
       "   shot_zone_area  shot_zone_basic  shot_zone_range     team_id  team_name  \\\n",
       "1               3                4                2  1610612747          0   \n",
       "2               2                4                0  1610612747          0   \n",
       "3               4                4                0  1610612747          0   \n",
       "4               1                5                4  1610612747          0   \n",
       "5               3                4                2  1610612747          0   \n",
       "\n",
       "   game_date  matchup  opponent  shot_id  \n",
       "1        310       28        25        2  \n",
       "2        310       28        25        3  \n",
       "3        310       28        25        4  \n",
       "4        310       28        25        5  \n",
       "5        310       28        25        6  \n",
       "\n",
       "[5 rows x 25 columns]"
      ]
     },
     "execution_count": 29,
     "metadata": {},
     "output_type": "execute_result"
    }
   ],
   "source": [
    "category_columns = []\n",
    "for col in df.columns:\n",
    "    if (df[col].dtype == object):\n",
    "        category_columns += [col]\n",
    "        \n",
    "for col in category_columns:\n",
    "    df[col] = df[col].astype('category')\n",
    "\n",
    "trainDf = df[df['shot_made_flag'].notnull()]\n",
    "trainDf.head()"
   ]
  },
  {
   "cell_type": "code",
   "execution_count": 30,
   "metadata": {
    "collapsed": false,
    "scrolled": true
   },
   "outputs": [
    {
     "name": "stdout",
     "output_type": "stream",
     "text": [
      "Column :'action_type', Mean :'26.8536013291', Std :'9.59104841408'\n",
      "Column :'combined_shot_type', Mean :'3.08691403069', Std :'0.638599460118'\n",
      "Column :'game_event_id', Mean :'249.190800404', Std :'150.003711999'\n",
      "Column :'game_id', Mean :'24764065.8681', Std :'7755174.8902'\n",
      "Column :'lat', Mean :'33.9531924651', Std :'0.0877913612201'\n",
      "Column :'loc_x', Mean :'7.11049939734', Std :'110.12457809'\n",
      "Column :'loc_y', Mean :'91.1075349383', Std :'87.7913612201'\n",
      "Column :'lon', Mean :'-118.262689501', Std :'0.11012457809'\n",
      "Column :'minutes_remaining', Mean :'4.88562400235', Std :'3.44989747779'\n",
      "Column :'period', Mean :'2.51943186631', Std :'1.15366548915'\n",
      "Column :'playoffs', Mean :'0.146561553246', Std :'0.353674057849'\n",
      "Column :'season', Mean :'9.40977945728', Std :'4.86382314776'\n",
      "Column :'seconds_remaining', Mean :'28.3650845359', Std :'17.4789492304'\n",
      "Column :'shot_distance', Mean :'13.4374368831', Std :'9.37418938817'\n",
      "Column :'shot_made_flag', Mean :'0.44616103047', Std :'0.497102586692'\n",
      "Column :'shot_type', Mean :'0.209336417239', Std :'0.406841583073'\n",
      "Column :'shot_zone_area', Mean :'2.4380232596', Std :'1.53200096273'\n",
      "Column :'shot_zone_basic', Mean :'3.21103039385', Std :'1.7933991367'\n",
      "Column :'shot_zone_range', Mean :'1.86884711861', Std :'1.58054098415'\n",
      "Column :'team_id', Mean :'1610612747.0', Std :'0.0'\n",
      "Column :'team_name', Mean :'0.0', Std :'0.0'\n",
      "Column :'game_date', Mean :'826.750236179', Std :'413.93368005'\n",
      "Column :'matchup', Mean :'36.7310812131', Std :'21.1350750051'\n",
      "Column :'opponent', Mean :'16.8689122716', Std :'9.06296658228'\n",
      "Column :'shot_id', Mean :'15349.0', Std :'8861.60494305'\n"
     ]
    }
   ],
   "source": [
    "for col in trainDf.columns:\n",
    "    print(\"Column :'{}', Mean :'{}', Std :'{}'\".format(col,df[col].mean(),df[col].std()))"
   ]
  },
  {
   "cell_type": "markdown",
   "metadata": {},
   "source": [
    "Now let's look for correlations between columns. First let's map the field by x and y positions. We want to see \n",
    "if there is a preferred position for scoring."
   ]
  },
  {
   "cell_type": "code",
   "execution_count": 106,
   "metadata": {
    "collapsed": false
   },
   "outputs": [
    {
     "data": {
      "text/plain": [
       "<matplotlib.collections.PathCollection at 0x12cc85550>"
      ]
     },
     "execution_count": 106,
     "metadata": {},
     "output_type": "execute_result"
    },
    {
     "data": {
      "image/png": "[encoded data removed]",
      "text/plain": [
       "<matplotlib.figure.Figure at 0x12cce5750>"
      ]
     },
     "metadata": {},
     "output_type": "display_data"
    }
   ],
   "source": [
    "import matplotlib.pyplot as plt\n",
    "import matplotlib\n",
    "%matplotlib inline\n",
    "figure = plt.figure()\n",
    "plt.scatter(trainDf[trainDf['shot_made_flag']==0]['loc_x'],trainDf[trainDf['shot_made_flag']==0]['loc_y'],color='b')\n",
    "plt.scatter(trainDf[trainDf['shot_made_flag']==1]['loc_x'],trainDf[trainDf['shot_made_flag']==1]['loc_y'],color='r')"
   ]
  },
  {
   "cell_type": "code",
   "execution_count": 107,
   "metadata": {
    "collapsed": false
   },
   "outputs": [
    {
     "data": {
      "text/plain": [
       "<matplotlib.legend.Legend at 0x12e37dd50>"
      ]
     },
     "execution_count": 107,
     "metadata": {},
     "output_type": "execute_result"
    },
    {
     "data": {
      "image/png": "[encoded data removed]",
      "text/plain": [
       "<matplotlib.figure.Figure at 0x12579a490>"
      ]
     },
     "metadata": {},
     "output_type": "display_data"
    }
   ],
   "source": [
    "from matplotlib import rc\n",
    "rc('font',**{'family':'sans-serif','sans-serif':['Helvetica']})\n",
    "rc('text', usetex=True)\n",
    "plt.rc('text', usetex=True)\n",
    "plt.rc('font', family='serif')\n",
    "\n",
    "def sq(row):\n",
    "    return row.apply(np.square)\n",
    "\n",
    "sumSquares_bkg = trainDf[trainDf['shot_made_flag']==0].apply(sq,axis=1)['loc_x']+trainDf[trainDf['shot_made_flag']==0].apply(sq,axis=1)['loc_y']\n",
    "sumSquares_sig = trainDf[trainDf['shot_made_flag']==1].apply(sq,axis=1)['loc_x']+trainDf[trainDf['shot_made_flag']==1].apply(sq,axis=1)['loc_y']\n",
    "squares_bkg = sumSquares_bkg.apply(lambda x:np.sqrt(x))\n",
    "squares_sig = sumSquares_sig.apply(lambda x:np.sqrt(x))\n",
    "\n",
    "figure = plt.figure()\n",
    "plt.hist(squares_sig,bins=25,log=True,histtype='step',color='r',label='Shot',normed=True)\n",
    "plt.hist(squares_bkg,bins=25,log=True, histtype='step',color='b',label='Missed',normed=True)\n",
    "plt.xlabel(r\"$\\sqrt{loc\\_x^{2} + loc\\_y^{2}}$\")\n",
    "plt.legend()"
   ]
  },
  {
   "cell_type": "code",
   "execution_count": 110,
   "metadata": {
    "collapsed": false
   },
   "outputs": [
    {
     "data": {
      "text/plain": [
       "<matplotlib.legend.Legend at 0x12edc7f90>"
      ]
     },
     "execution_count": 110,
     "metadata": {},
     "output_type": "execute_result"
    },
    {
     "data": {
      "image/png": "[encoded data removed]",
      "text/plain": [
       "<matplotlib.figure.Figure at 0x11717e690>"
      ]
     },
     "metadata": {},
     "output_type": "display_data"
    }
   ],
   "source": [
    "gameDate_bkg = trainDf[trainDf['shot_made_flag']==0]['game_date']\n",
    "gameDate_sig = trainDf[trainDf['shot_made_flag']==1]['game_date']\n",
    "figure = plt.figure()\n",
    "plt.hist(gameDate_sig,histtype='step',color='r',label='Shot')\n",
    "plt.hist(gameDate_bkg,histtype='step',color='b',label='Missed')\n",
    "plt.xlabel('Game Date')\n",
    "plt.legend()"
   ]
  },
  {
   "cell_type": "code",
   "execution_count": 112,
   "metadata": {
    "collapsed": false
   },
   "outputs": [
    {
     "data": {
      "text/plain": [
       "1     310\n",
       "3     310\n",
       "5     310\n",
       "9     310\n",
       "10    310\n",
       "13    311\n",
       "14    311\n",
       "15    311\n",
       "18    311\n",
       "20    311\n",
       "21    311\n",
       "25    311\n",
       "26    311\n",
       "27    311\n",
       "28    311\n",
       "29    311\n",
       "31    311\n",
       "40    312\n",
       "43    312\n",
       "46    312\n",
       "Name: game_date, dtype: int16"
      ]
     },
     "execution_count": 112,
     "metadata": {},
     "output_type": "execute_result"
    }
   ],
   "source": [
    "trainDf[trainDf['shot_made_flag']==0]['game_date'].head(20)"
   ]
  },
  {
   "cell_type": "code",
   "execution_count": null,
   "metadata": {
    "collapsed": true
   },
   "outputs": [],
   "source": []
  }
 ],
 "metadata": {
  "kernelspec": {
   "display_name": "Python 2",
   "language": "python",
   "name": "python2"
  },
  "language_info": {
   "codemirror_mode": {
    "name": "ipython",
    "version": 2
   },
   "file_extension": ".py",
   "mimetype": "text/x-python",
   "name": "python",
   "nbconvert_exporter": "python",
   "pygments_lexer": "ipython2",
   "version": "2.7.11"
  }
 },
 "nbformat": 4,
 "nbformat_minor": 0
}
